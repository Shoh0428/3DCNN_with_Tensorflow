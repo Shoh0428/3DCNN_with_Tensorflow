{
  "nbformat": 4,
  "nbformat_minor": 0,
  "metadata": {
    "colab": {
      "provenance": [],
      "toc_visible": true,
      "authorship_tag": "ABX9TyOnn0ckQ+c1etHHNb5mUOnN",
      "include_colab_link": true
    },
    "kernelspec": {
      "name": "python3",
      "display_name": "Python 3"
    },
    "language_info": {
      "name": "python"
    }
  },
  "cells": [
    {
      "cell_type": "markdown",
      "metadata": {
        "id": "view-in-github",
        "colab_type": "text"
      },
      "source": [
        "<a href=\"https://colab.research.google.com/github/Shoh0428/3DCNN_with_Tensorflow/blob/main/main.ipynb\" target=\"_parent\"><img src=\"https://colab.research.google.com/assets/colab-badge.svg\" alt=\"Open In Colab\"/></a>"
      ]
    },
    {
      "cell_type": "code",
      "execution_count": 1,
      "metadata": {
        "id": "MCOH-jHTNt7w"
      },
      "outputs": [],
      "source": [
        "import tensorflow as tf\n",
        "from tensorflow.keras import layers, models\n",
        "from tensorflow.keras.preprocessing.image import img_to_array, load_img\n",
        "from sklearn.model_selection import train_test_split\n",
        "import numpy as np\n",
        "import os\n",
        "from google.colab import drive"
      ]
    },
    {
      "cell_type": "code",
      "source": [
        "drive.mount('/content/drive')\n",
        "\n",
        "content_folder = '/content/drive/My Drive/content'\n",
        "advertisement_folder = '/content/drive/My Drive/Advertisement'"
      ],
      "metadata": {
        "colab": {
          "base_uri": "https://localhost:8080/"
        },
        "id": "Fizx7qLlThkC",
        "outputId": "4fc07acd-6288-441a-cb7c-ae2acb2ba71f"
      },
      "execution_count": 2,
      "outputs": [
        {
          "output_type": "stream",
          "name": "stdout",
          "text": [
            "Drive already mounted at /content/drive; to attempt to forcibly remount, call drive.mount(\"/content/drive\", force_remount=True).\n"
          ]
        }
      ]
    },
    {
      "cell_type": "code",
      "source": [
        "def process_video(video_path, max_frames):\n",
        "    frames = []\n",
        "\n",
        "    for frame_file in os.listdir(video_path):\n",
        "        frame_path = os.path.join(video_path, frame_file)\n",
        "\n",
        "        if frame_file.lower().endswith(('.png', '.jpg', '.jpeg', '.gif', '.bmp')):\n",
        "            frame = load_img(frame_path, target_size=(224, 224))\n",
        "            frame = img_to_array(frame)\n",
        "            frame = frame / 255.0\n",
        "            frames.append(frame)\n",
        "\n",
        "    while len(frames) < max_frames:\n",
        "        frames.append(np.zeros((224, 224, 3)))\n",
        "\n",
        "    return np.array(frames)\n",
        "\n"
      ],
      "metadata": {
        "id": "9ZGi3Cj6TqH9"
      },
      "execution_count": 3,
      "outputs": []
    },
    {
      "cell_type": "code",
      "source": [
        "max_frames_content = max(len(os.listdir(os.path.join(content_folder, video))) for video in os.listdir(content_folder) if os.path.isdir(os.path.join(content_folder, video)))\n",
        "max_frames_advertisement = max(len(os.listdir(os.path.join(advertisement_folder, video))) for video in os.listdir(advertisement_folder) if os.path.isdir(os.path.join(advertisement_folder, video)))\n",
        "max_frames = max(max_frames_content, max_frames_advertisement)\n"
      ],
      "metadata": {
        "id": "NVszWgWUTtGb"
      },
      "execution_count": 4,
      "outputs": []
    },
    {
      "cell_type": "code",
      "source": [
        "content_videos = [process_video(os.path.join(content_folder, video), max_frames) for video in os.listdir(content_folder) if os.path.isdir(os.path.join(content_folder, video))]\n",
        "content_labels = [0] * len(content_videos)\n",
        "\n",
        "advertisement_videos = [process_video(os.path.join(advertisement_folder, video), max_frames) for video in os.listdir(advertisement_folder) if os.path.isdir(os.path.join(advertisement_folder, video))]\n",
        "advertisement_labels = [1] * len(advertisement_videos)\n"
      ],
      "metadata": {
        "id": "rUbUO_cFTwCr"
      },
      "execution_count": 5,
      "outputs": []
    },
    {
      "cell_type": "code",
      "source": [
        "X = np.concatenate([content_videos, advertisement_videos])\n",
        "y = np.concatenate([content_labels, advertisement_labels])"
      ],
      "metadata": {
        "id": "MIBnf32VTzWN"
      },
      "execution_count": 6,
      "outputs": []
    },
    {
      "cell_type": "code",
      "source": [
        "X_train, X_test, y_train, y_test = train_test_split(X, y, test_size=0.2, random_state=42)"
      ],
      "metadata": {
        "id": "Fggqy0IqT2bw"
      },
      "execution_count": 7,
      "outputs": []
    },
    {
      "cell_type": "code",
      "source": [
        "num_frames = max_frames"
      ],
      "metadata": {
        "id": "gGmesZhwT4ef"
      },
      "execution_count": 8,
      "outputs": []
    },
    {
      "cell_type": "code",
      "source": [
        "model = models.Sequential([\n",
        "    layers.Conv3D(32, (3, 3, 3), activation='relu', input_shape=(num_frames, 224, 224, 3)),\n",
        "    layers.MaxPooling3D((2, 2, 2)),\n",
        "    layers.Conv3D(64, (3, 3, 3), activation='relu'),\n",
        "layers.MaxPooling3D((2, 2, 2)),\n",
        "layers.Flatten(),\n",
        "layers.Dense(64, activation='relu'),\n",
        "layers.Dense(1, activation='sigmoid')\n",
        "])"
      ],
      "metadata": {
        "id": "4nfgtA4nT7S8"
      },
      "execution_count": 9,
      "outputs": []
    },
    {
      "cell_type": "code",
      "source": [
        "model.compile(optimizer='adam', loss='binary_crossentropy', metrics=['accuracy'])"
      ],
      "metadata": {
        "id": "r4d4G25MT-XW"
      },
      "execution_count": 10,
      "outputs": []
    },
    {
      "cell_type": "code",
      "source": [
        "\n",
        "X_train = X_train.astype('float32')\n",
        "X_test = X_test.astype('float32')\n",
        "\n",
        "\n"
      ],
      "metadata": {
        "id": "PmP6Am6aQ2-e"
      },
      "execution_count": 11,
      "outputs": []
    },
    {
      "cell_type": "code",
      "source": [
        "model.fit(X_train, y_train, batch_size=32, epochs=10, validation_data=(X_test, y_test))"
      ],
      "metadata": {
        "colab": {
          "base_uri": "https://localhost:8080/"
        },
        "id": "EP-Ke_6AUBST",
        "outputId": "f5412c6d-4a52-4cd2-c289-c264a9366fe5"
      },
      "execution_count": null,
      "outputs": [
        {
          "output_type": "stream",
          "name": "stdout",
          "text": [
            "Epoch 1/10\n"
          ]
        }
      ]
    }
  ]
}